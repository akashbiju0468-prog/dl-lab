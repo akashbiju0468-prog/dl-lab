{
 "cells": [
  {
   "cell_type": "markdown",
   "id": "e2c76883-959e-4721-a08c-9e93d25b1fe1",
   "metadata": {},
   "source": [
    "1.Create a vector , scaler, matrics and tensor with values of your own choice \n",
    "using tf.constant()"
   ]
  },
  {
   "cell_type": "code",
   "execution_count": 19,
   "id": "74d073ab-6caa-4852-9781-94f66f4d95d4",
   "metadata": {},
   "outputs": [],
   "source": [
    "import tensorflow as tf\n",
    "scalar = tf.constant(7) \n",
    "vector = tf.constant([1, 2, 3])\n",
    "matrix = tf.constant([[1, 2], [3, 4]])\n",
    "tensor = tf.constant([[[1, 2], [3, 4]], [[5, 6], [7, 8]]])  "
   ]
  },
  {
   "cell_type": "markdown",
   "id": "94ea8e61-cb3a-4835-b0f7-8fabdaea13d9",
   "metadata": {},
   "source": [
    "2. Find the shape and size of the tensor"
   ]
  },
  {
   "cell_type": "code",
   "execution_count": 20,
   "id": "a241155e-8f84-4e78-914f-6d236baa1cac",
   "metadata": {},
   "outputs": [
    {
     "name": "stdout",
     "output_type": "stream",
     "text": [
      "Tensor Shape: (2, 2, 2)\n",
      "Tensor Size: tf.Tensor(8, shape=(), dtype=int32)\n"
     ]
    }
   ],
   "source": [
    "print(\"Tensor Shape:\", tensor.shape)\n",
    "print(\"Tensor Size:\", tf.size(tensor))"
   ]
  },
  {
   "cell_type": "markdown",
   "id": "0df4cd17-9aef-4d70-ada7-365ec284327e",
   "metadata": {},
   "source": [
    "3.Create two tensors containing random values between 0 and 1 with shape (5, 300)\n"
   ]
  },
  {
   "cell_type": "code",
   "execution_count": 18,
   "id": "ad888eb3-566a-4c96-b83c-e1f706adc64a",
   "metadata": {},
   "outputs": [],
   "source": [
    "tensor_a = tf.random.uniform((5, 300), minval=0, maxval=1)\n",
    "tensor_b = tf.random.uniform((5, 300), minval=0, maxval=1)\n"
   ]
  },
  {
   "cell_type": "markdown",
   "id": "e938e56d-8cfd-42dc-972c-15b068ba4663",
   "metadata": {},
   "source": [
    "4.Multiply the two tensors using matrix multiplication (requires matching inner dimensions)"
   ]
  },
  {
   "cell_type": "code",
   "execution_count": 22,
   "id": "6a2dfab2-e670-4452-8774-b9efc008cb55",
   "metadata": {
    "scrolled": true
   },
   "outputs": [
    {
     "name": "stdout",
     "output_type": "stream",
     "text": [
      "tf.Tensor(\n",
      "[[72.73713  66.35554  68.34963  71.61589  69.06918 ]\n",
      " [82.94262  75.2863   74.95173  84.60103  79.409874]\n",
      " [76.69995  77.66359  73.37749  79.04943  77.09665 ]\n",
      " [74.718735 69.32722  71.4311   71.489136 71.9814  ]\n",
      " [78.92394  73.060585 74.680626 78.26701  75.57319 ]], shape=(5, 5), dtype=float32)\n"
     ]
    }
   ],
   "source": [
    "result_matrix_multiplication = tf.matmul(tensor_a, tensor_b, transpose_b=True)\n",
    "print(result_matrix_multiplication)"
   ]
  },
  {
   "cell_type": "markdown",
   "id": "8f04675c-fe29-48e4-bda0-161da27f899c",
   "metadata": {},
   "source": [
    "5. Multiply the two tensors using dot product \n"
   ]
  },
  {
   "cell_type": "code",
   "execution_count": 23,
   "id": "0944b7c6-d3cb-4a50-aed6-937fc741182b",
   "metadata": {},
   "outputs": [
    {
     "name": "stdout",
     "output_type": "stream",
     "text": [
      "Dot Product Result: tf.Tensor([72.73714  75.28631  73.37749  71.48914  75.573204], shape=(5,), dtype=float32)\n"
     ]
    }
   ],
   "source": [
    "result_dot_product = tf.reduce_sum(tf.multiply(tensor_a, tensor_b), axis=1)\n",
    "print(\"Dot Product Result:\", result_dot_product)"
   ]
  },
  {
   "cell_type": "markdown",
   "id": "48afe293-cb9a-4531-8d41-7b827e54de97",
   "metadata": {},
   "source": [
    "6. Create a tensor with random values between 0 and 1 with shape [224, 224, 3]"
   ]
  },
  {
   "cell_type": "code",
   "execution_count": 25,
   "id": "e3f9c568-66e0-4036-8a34-d726b3d2a3d8",
   "metadata": {},
   "outputs": [],
   "source": [
    "random_tensor = tf.random.uniform([224, 224, 3], minval=0, maxval=1)"
   ]
  },
  {
   "cell_type": "markdown",
   "id": "152da352-4785-4e7f-9516-b33dc2fbafe8",
   "metadata": {},
   "source": [
    "7. Find the min and max values of the tensor"
   ]
  },
  {
   "cell_type": "code",
   "execution_count": 26,
   "id": "0c766bac-8633-4c67-a0b6-6127158563b8",
   "metadata": {},
   "outputs": [
    {
     "name": "stdout",
     "output_type": "stream",
     "text": [
      "Min value of tensor: 1.04904175e-05\n",
      "Max value of tensor: 0.9999981\n"
     ]
    }
   ],
   "source": [
    "min_value = tf.reduce_min(random_tensor)\n",
    "max_value = tf.reduce_max(random_tensor)\n",
    "print(\"Min value of tensor:\", min_value.numpy())\n",
    "print(\"Max value of tensor:\", max_value.numpy())"
   ]
  },
  {
   "cell_type": "markdown",
   "id": "555bd05f-8f70-410e-bffc-112bf2860eda",
   "metadata": {},
   "source": [
    "8. Create a tensor with random values of shape [1, 224, 224, 3] then squeeze it to change the shape to [224, 224, 3]\n",
    "   "
   ]
  },
  {
   "cell_type": "code",
   "execution_count": 27,
   "id": "2e314557-7e10-4c99-9083-fd2c81f941ba",
   "metadata": {},
   "outputs": [
    {
     "name": "stdout",
     "output_type": "stream",
     "text": [
      "Shape of tensor after squeezing: (224, 224, 3)\n"
     ]
    }
   ],
   "source": [
    "random_tensor_4d = tf.random.uniform([1, 224, 224, 3], minval=0, maxval=1, dtype=tf.float32)\n",
    "squeezed_tensor = tf.squeeze(random_tensor_4d)\n",
    "print(\"Shape of tensor after squeezing:\", squeezed_tensor.shape)"
   ]
  },
  {
   "cell_type": "markdown",
   "id": "f85aece7-f007-4112-9e02-b73a5d8cfb97",
   "metadata": {},
   "source": [
    "9. Create a tensor with shape [10] using your own choice of values, then find the index which has the maximum value"
   ]
  },
  {
   "cell_type": "code",
   "execution_count": 32,
   "id": "ab0cf795-6894-416e-81ba-192ae2b44d60",
   "metadata": {},
   "outputs": [
    {
     "name": "stdout",
     "output_type": "stream",
     "text": [
      "Index of max value: 9\n"
     ]
    }
   ],
   "source": [
    "my_tensor = tf.constant([1, 5, 3, 9, 7, 6, 2, 8, 4, 10])\n",
    "max_index = tf.argmax(my_tensor)\n",
    "print(\"Index of max value:\", max_index.numpy())"
   ]
  },
  {
   "cell_type": "markdown",
   "id": "34a20278-5a7d-4c1b-ab85-9018b46cb35f",
   "metadata": {},
   "source": [
    "10. One-hot encode the tensor you have created in 9"
   ]
  },
  {
   "cell_type": "code",
   "execution_count": 34,
   "id": "e9565795-c99b-411a-9502-120b19962f9b",
   "metadata": {},
   "outputs": [
    {
     "name": "stdout",
     "output_type": "stream",
     "text": [
      "One-hot encoded tensor: [0. 0. 0. 0. 0. 0. 0. 0. 0. 1.]\n"
     ]
    }
   ],
   "source": [
    "one_hot_encoded = tf.one_hot(max_index, depth=10)\n",
    "print(\"One-hot encoded tensor:\", one_hot_encoded.numpy())"
   ]
  },
  {
   "cell_type": "code",
   "execution_count": null,
   "id": "f4938a9c-562f-4db1-b822-b0b14338da29",
   "metadata": {},
   "outputs": [],
   "source": []
  }
 ],
 "metadata": {
  "kernelspec": {
   "display_name": "Python 3 (ipykernel)",
   "language": "python",
   "name": "python3"
  },
  "language_info": {
   "codemirror_mode": {
    "name": "ipython",
    "version": 3
   },
   "file_extension": ".py",
   "mimetype": "text/x-python",
   "name": "python",
   "nbconvert_exporter": "python",
   "pygments_lexer": "ipython3",
   "version": "3.10.12"
  }
 },
 "nbformat": 4,
 "nbformat_minor": 5
}
